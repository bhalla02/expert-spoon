{
 "cells": [
  {
   "cell_type": "markdown",
   "id": "af8582c1-2beb-44d2-8ac1-f3155186bc1a",
   "metadata": {},
   "source": [
    "Q1\n",
    "The Filter method evaluates the relevance of features independently of the chosen machine learning model. It typically involves statistical measures like correlation, mutual information, chi-square, or ANOVA to rank features based on their correlation with the target variable. Features are then selected based on these rankings."
   ]
  },
  {
   "cell_type": "markdown",
   "id": "2c861725-7d52-4719-9488-4df04c237c90",
   "metadata": {},
   "source": [
    "Q2\n",
    "\n",
    "The Wrapper method evaluates subsets of features by training different models on various combinations of features and selecting the subset that produces the best performance according to a predefined criterion, often through techniques like forward selection, backward elimination, or recursive feature elimination\n"
   ]
  },
  {
   "cell_type": "markdown",
   "id": "c4dda53f-121d-4f2a-aa36-a7ceb9d1aec4",
   "metadata": {},
   "source": [
    "Q3\n",
    "Embedded methods incorporate feature selection directly into the model training process. Techniques include Lasso Regression, Ridge Regression, Decision Trees, Random Forests, and Gradient Boosting Machines, which inherently perform feature selection during model training."
   ]
  },
  {
   "cell_type": "markdown",
   "id": "194b584e-86c5-4753-b7c2-579c89e0f705",
   "metadata": {},
   "source": [
    "Q4\n",
    "Filter methods do not consider interactions between features, meaning they may overlook relevant feature combinations. They also may not account for the predictive power of features in the context of the chosen model."
   ]
  },
  {
   "cell_type": "markdown",
   "id": "d230580b-7072-4455-92e7-3c40b55c0265",
   "metadata": {},
   "source": [
    "Q5\n",
    "Filter methods are preferable when dealing with large datasets with many features, as they are computationally less expensive than Wrapper methods. They are also useful for quickly identifying potentially relevant features before diving into more computationally intensive feature selection methods."
   ]
  },
  {
   "cell_type": "markdown",
   "id": "d3437c4f-fd5f-48d7-a791-bedbf24f6116",
   "metadata": {},
   "source": [
    "Q6\n",
    "In a telecom company, you are working on a project to develop a predictive model for customer churn. You are unsure of which features to include in the model because the dataset contains several different ones. Describe how you would choose the most pertinent attributes for the model using the Filter Method.\n",
    "To use the Filter method, I would calculate statistical measures such as correlation coefficients or mutual information between each feature and the target variable (customer churn). Then, I would rank the features based on these measures and select the top features with the highest scores as the most pertinent attributes for the model."
   ]
  },
  {
   "cell_type": "markdown",
   "id": "e4ccb69c-2a9b-4abf-967b-536e1e96e315",
   "metadata": {},
   "source": [
    "Q7\n",
    "You are working on a project to predict the outcome of a soccer match. You have a large dataset with many features, including player statistics and team rankings. Explain how you would use the Embedded method to select the most relevant features for the model.\n",
    "With the Embedded method, I would use machine learning algorithms that inherently perform feature selection during model training, such as Random Forests or Gradient Boosting Machines. By training these models on the dataset, the importance of each feature in predicting the outcome of the soccer match would be automatically assessed, allowing me to select the most relevant features based on their importance scores."
   ]
  },
  {
   "cell_type": "markdown",
   "id": "84fdccd5-be0c-4d5c-a4b3-6e2bfd0b18cf",
   "metadata": {},
   "source": [
    "Q8\n",
    "You are working on a project to predict the price of a house based on its features, such as size, location, and age. You have a limited number of features, and you want to ensure that you select the most important ones for the model. Explain how you would use the Wrapper method to select the best set of features for the predictor.\n",
    "Using the Wrapper method, I would employ techniques like forward selection or backward elimination to iteratively select the best set of features for the house price prediction model. I would start with an empty set of features and add or remove features one at a time based on their contribution to the model's performance until reaching the desired performance level or feature set. This approach ensures that the final set of features is optimized for the specific prediction task."
   ]
  },
  {
   "cell_type": "code",
   "execution_count": null,
   "id": "ad697805-ca9b-48fa-b6dd-c28b1d66501d",
   "metadata": {},
   "outputs": [],
   "source": []
  }
 ],
 "metadata": {
  "kernelspec": {
   "display_name": "Python 3 (ipykernel)",
   "language": "python",
   "name": "python3"
  },
  "language_info": {
   "codemirror_mode": {
    "name": "ipython",
    "version": 3
   },
   "file_extension": ".py",
   "mimetype": "text/x-python",
   "name": "python",
   "nbconvert_exporter": "python",
   "pygments_lexer": "ipython3",
   "version": "3.10.8"
  }
 },
 "nbformat": 4,
 "nbformat_minor": 5
}
